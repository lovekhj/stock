{
 "cells": [
  {
   "cell_type": "code",
   "execution_count": 4,
   "id": "8b554657",
   "metadata": {},
   "outputs": [],
   "source": [
    "import requests\n",
    "import pandas as pd\n",
    "from io import BytesIO\n",
    "import time"
   ]
  },
  {
   "cell_type": "code",
   "execution_count": 11,
   "id": "88982344",
   "metadata": {},
   "outputs": [
    {
     "name": "stdout",
     "output_type": "stream",
     "text": [
      "done\n"
     ]
    }
   ],
   "source": [
    "    gen_req_url = 'http://data.krx.co.kr/comm/fileDn/GenerateOTP/generate.cmd'\n",
    "    query_str_parms = {\n",
    "        'mktid': 'ALL',\n",
    "        'trdDd': '20220302',\n",
    "        'share': '1',\n",
    "        'money': '1',\n",
    "        'csvxls_isNo': 'false',\n",
    "        'name': 'fileDown',\n",
    "        'url': 'dbms/MDC/STAT/standard/MDCSTAT01501'\n",
    "    }\n",
    "    headers = {\n",
    "        'Referer': 'http://data.krx.co.kr/contents/MDC/MDI/mdiLoader/index.cmd?menuId=MDC0201020101'}\n",
    "    otp = requests.post(gen_req_url, query_str_parms, headers=headers)\n",
    "    time.sleep(1.0)\n",
    "   \n",
    "\n",
    "    form_data = {\n",
    "        'code': otp.content\n",
    "    }\n",
    "\n",
    "    # download.cmd\n",
    "    down_url = 'http://data.krx.co.kr/comm/fileDn/download_csv/download.cmd'\n",
    "    \n",
    "    r= requests.post(down_url, form_data, headers=headers)\n",
    "    time.sleep(1.0)\n",
    "    \n",
    "    df = pd.read_csv(BytesIO(r.content), encoding='euc-kr')\n",
    "    \n",
    "#     print(df)\n",
    "#     df['일자'] = '20220302'\n",
    "    df.to_excel('krx_0302.xlsx', index=False, index_label=None)\n",
    "    print('done')\n"
   ]
  }
 ],
 "metadata": {
  "kernelspec": {
   "display_name": "Python 3",
   "language": "python",
   "name": "python3"
  },
  "language_info": {
   "codemirror_mode": {
    "name": "ipython",
    "version": 3
   },
   "file_extension": ".py",
   "mimetype": "text/x-python",
   "name": "python",
   "nbconvert_exporter": "python",
   "pygments_lexer": "ipython3",
   "version": "3.8.8"
  }
 },
 "nbformat": 4,
 "nbformat_minor": 5
}
