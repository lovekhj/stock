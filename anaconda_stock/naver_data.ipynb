{
 "cells": [
  {
   "cell_type": "markdown",
   "id": "ba7e7c5f",
   "metadata": {},
   "source": [
    "# naver crawling"
   ]
  },
  {
   "cell_type": "code",
   "execution_count": 1,
   "id": "1efcd602",
   "metadata": {},
   "outputs": [],
   "source": [
    "# 기본\n",
    "import requests\n",
    "from bs4 import BeautifulSoup\n",
    "import re\n",
    "import time\n",
    "from io import BytesIO\n",
    "import pandas as pd\n",
    "import datetime\n",
    "import json\n",
    "import glob\n",
    "import os"
   ]
  },
  {
   "cell_type": "code",
   "execution_count": 2,
   "id": "99cba111",
   "metadata": {
    "scrolled": true
   },
   "outputs": [
    {
     "name": "stdout",
     "output_type": "stream",
     "text": [
      "작업일자 ==>  20220415\n"
     ]
    }
   ],
   "source": [
    "#  기초정보\n",
    "# 0은 월요일, 1은 화요일, 2는 수요일, 3은 목요일, 4는 금요일 ,5는 토요일 ,6은 일요일\n",
    "weekday_str = datetime.datetime.now().weekday() # 주 :일자로 변환\n",
    "if weekday_str == 6 :\n",
    "    dt_time = datetime.datetime.now() - datetime.timedelta(days=2)\n",
    "elif weekday_str == 5 :\n",
    "    dt_time = datetime.datetime.now() - datetime.timedelta(days=1)\n",
    "else:\n",
    "    dt_time = datetime.datetime.now()\n",
    "\n",
    "dt_str = datetime.datetime.strftime(dt_time, '%Y%m%d')\n",
    "print('작업일자 ==> ', dt_str)"
   ]
  },
  {
   "cell_type": "code",
   "execution_count": 3,
   "id": "16efe4f7",
   "metadata": {},
   "outputs": [],
   "source": [
    "# 폴더\n",
    "\n",
    "folder_nm = '주식_' + dt_str\n",
    "path = './' + folder_nm\n",
    "if os.path.isdir(path) == False : os.mkdir(folder_nm) "
   ]
  },
  {
   "cell_type": "markdown",
   "id": "ba489ca2",
   "metadata": {},
   "source": [
    "## (기준정보)업종별 시세"
   ]
  },
  {
   "cell_type": "code",
   "execution_count": 4,
   "id": "c1e3487d",
   "metadata": {},
   "outputs": [
    {
     "name": "stdout",
     "output_type": "stream",
     "text": [
      "upjong complate ==> 업종상세_20220415.xlsx\n"
     ]
    }
   ],
   "source": [
    "global upjong_lists\n",
    "upjong_lists = []\n",
    "file_nm = '업종상세_'+dt_str+'.xlsx'\n",
    "file_json_temp = '업종상세.json'\n",
    "\n",
    "def get_upjong_detail(idx, url, upjongNm):\n",
    "    # print(idx, url, upjongNm)\n",
    "    headers = {\"User-Agent\":\"Mozilla/5.0 (Macintosh; Intel Mac OS X 10_15_7) AppleWebKit/537.36 (KHTML, like Gecko) Chrome/99.0.4844.74 Safari/537.36\"}\n",
    "    res = requests.get(url)\n",
    "    res.raise_for_status()\n",
    "    soup = BeautifulSoup(res.text, 'lxml')\n",
    "    upjong_details = soup.find_all('div', attrs={'class':'name_area'})\n",
    "    for upjong_detail in upjong_details:\n",
    "        code_nm = upjong_detail.find('a').get_text()\n",
    "        code = upjong_detail.find('a')['href'].split('=')[1]\n",
    "        # print(code, code_nm, upjongNm)\n",
    "        upjong_lists.append({'종목코드':code, '종목명':code_nm, '업종':upjongNm})\n",
    "\n",
    "    \n",
    "url = 'https://finance.naver.com/sise/sise_group.naver?type=upjong'\n",
    "headers = {\"User-Agent\":\"Mozilla/5.0 (Macintosh; Intel Mac OS X 10_15_7) AppleWebKit/537.36 (KHTML, like Gecko) Chrome/99.0.4844.74 Safari/537.36\"}\n",
    "res = requests.get(url)\n",
    "res.raise_for_status()\n",
    "url_basic = 'https://finance.naver.com'\n",
    "soup = BeautifulSoup(res.text, 'lxml')\n",
    "upjongs = soup.find('table', attrs={'class':'type_1'}).find_all('a')\n",
    "for idx, upjong in enumerate(upjongs):\n",
    "    url = url_basic+ upjong['href']\n",
    "    upjongNm = upjong.get_text().strip()\n",
    "    \n",
    "    get_upjong_detail(idx, url, upjongNm)\n",
    "    # time.sleep(1.0)\n",
    " \n",
    "with open(folder_nm+'/'+ file_json_temp, 'w') as outfile:\n",
    "    json.dump(upjong_lists, outfile )\n",
    "    \n",
    "print('upjong complate ==> {}'.format(file_nm))"
   ]
  },
  {
   "cell_type": "code",
   "execution_count": 5,
   "id": "d55249f5",
   "metadata": {},
   "outputs": [
    {
     "name": "stdout",
     "output_type": "stream",
     "text": [
      "upjong complate ==> 업종상세_20220415.xlsx\n"
     ]
    }
   ],
   "source": [
    "with open(folder_nm+'/'+ file_json_temp,'r') as json_file:\n",
    "    json_data = json.load(json_file)\n",
    "    \n",
    "# print(json_data)\n",
    "df_upjong = pd.json_normalize(json_data)\n",
    "df_upjong.to_excel(folder_nm+'/'+ file_nm)\n",
    "print('upjong complate ==> {}'.format(file_nm))"
   ]
  },
  {
   "cell_type": "markdown",
   "id": "e2cdba56",
   "metadata": {},
   "source": [
    "## (기준정보)테마"
   ]
  },
  {
   "cell_type": "code",
   "execution_count": 6,
   "id": "166a4a47",
   "metadata": {},
   "outputs": [
    {
     "name": "stdout",
     "output_type": "stream",
     "text": [
      "theme complate ==> 테마.json\n"
     ]
    }
   ],
   "source": [
    "global theme_lists\n",
    "theme_lists = []\n",
    "file_theme_nm = '테마_'+dt_str+'.xlsx'\n",
    "file_json_theme_temp = '테마.json'\n",
    "\n",
    "\n",
    "def get_theme_detail(idx, url, themeNm):\n",
    "    headers = {\"User-Agent\":\"Mozilla/5.0 (Macintosh; Intel Mac OS X 10_15_7) AppleWebKit/537.36 (KHTML, like Gecko) Chrome/99.0.4844.74 Safari/537.36\"}\n",
    "    res = requests.get(url)\n",
    "    res.raise_for_status()\n",
    "    soup = BeautifulSoup(res.text, 'lxml')\n",
    "    theme_details = soup.find_all('div', attrs={'class':'name_area'})\n",
    "\n",
    "    for theme_detail in theme_details:\n",
    "        code = theme_detail('a')[0]['href'].split('=')[1]\n",
    "        code_nm = theme_detail.get_text().replace('*','')\n",
    "        theme_lists.append({'종목코드':code, '종목명':code_nm, '테마':themeNm})\n",
    "    \n",
    "    \n",
    "# 1~7 page\n",
    "for i in range(1,8):\n",
    "    url = 'https://finance.naver.com/sise/theme.naver?&page={}'.format(i)\n",
    "    headers = {\"User-Agent\":\"Mozilla/5.0 (Macintosh; Intel Mac OS X 10_15_7) AppleWebKit/537.36 (KHTML, like Gecko) Chrome/99.0.4844.74 Safari/537.36\"}\n",
    "    res = requests.get(url)\n",
    "    res.raise_for_status()\n",
    "    url_basic = 'https://finance.naver.com'\n",
    "    soup = BeautifulSoup(res.text, 'lxml')\n",
    "    themes = soup.find_all('td', attrs={'class':'col_type1'})\n",
    "\n",
    "    for idx, theme in enumerate(themes):\n",
    "        url = url_basic + theme('a')[0]['href']\n",
    "        themeNm = theme.get_text()\n",
    "        get_theme_detail(idx, url, themeNm)\n",
    "        # time.sleep(1.0)\n",
    "\n",
    "with open(folder_nm+'/'+ file_json_theme_temp, 'w') as outfile:\n",
    "    json.dump(theme_lists, outfile)\n",
    "        \n",
    "# print(theme_lists)\n",
    "\n",
    "print('theme complate ==> {}'.format(file_json_theme_temp))"
   ]
  },
  {
   "cell_type": "code",
   "execution_count": 7,
   "id": "dec7b527",
   "metadata": {},
   "outputs": [
    {
     "name": "stdout",
     "output_type": "stream",
     "text": [
      "theme complate ==> 테마_20220415.xlsx\n"
     ]
    }
   ],
   "source": [
    "with open(folder_nm+'/'+ file_json_theme_temp,'r') as json_file:\n",
    "    json_data = json.load(json_file)\n",
    "    \n",
    "# print(json_data)\n",
    "df_theme = pd.json_normalize(json_data)\n",
    "df_theme.to_excel(folder_nm+'/'+ file_theme_nm)\n",
    "print('theme complate ==> {}'.format(file_theme_nm))"
   ]
  }
 ],
 "metadata": {
  "kernelspec": {
   "display_name": "Python 3",
   "language": "python",
   "name": "python3"
  },
  "language_info": {
   "codemirror_mode": {
    "name": "ipython",
    "version": 3
   },
   "file_extension": ".py",
   "mimetype": "text/x-python",
   "name": "python",
   "nbconvert_exporter": "python",
   "pygments_lexer": "ipython3",
   "version": "3.8.8"
  }
 },
 "nbformat": 4,
 "nbformat_minor": 5
}
