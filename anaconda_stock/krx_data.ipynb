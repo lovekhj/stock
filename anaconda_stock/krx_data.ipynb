{
 "cells": [
  {
   "cell_type": "markdown",
   "id": "de108ea2",
   "metadata": {},
   "source": [
    "# krx 데이터 가져오기"
   ]
  },
  {
   "cell_type": "code",
   "execution_count": 1,
   "id": "45ea8d0f",
   "metadata": {},
   "outputs": [],
   "source": [
    "import requests\n",
    "from bs4 import BeautifulSoup\n",
    "import re\n",
    "import time\n",
    "from io import BytesIO\n",
    "import pandas as pd\n",
    "import datetime\n",
    "import glob\n",
    "import os"
   ]
  },
  {
   "cell_type": "code",
   "execution_count": 2,
   "id": "8c9634f9",
   "metadata": {},
   "outputs": [
    {
     "name": "stdout",
     "output_type": "stream",
     "text": [
      "작업일자 ==>  20220415\n"
     ]
    }
   ],
   "source": [
    "#  기초정보\n",
    "# 0은 월요일, 1은 화요일, 2는 수요일, 3은 목요일, 4는 금요일 ,5는 토요일 ,6은 일요일\n",
    "weekday_str = datetime.datetime.now().weekday() # 주 :일자로 변환\n",
    "if weekday_str == 6 :\n",
    "    dt_time = datetime.datetime.now() - datetime.timedelta(days=2)\n",
    "elif weekday_str == 5 :\n",
    "    dt_time = datetime.datetime.now() - datetime.timedelta(days=1)\n",
    "else:\n",
    "    dt_time = datetime.datetime.now()\n",
    "\n",
    "dt_str = datetime.datetime.strftime(dt_time, '%Y%m%d')\n",
    "print('작업일자 ==> ', dt_str)"
   ]
  },
  {
   "cell_type": "code",
   "execution_count": 3,
   "id": "a9fa90e5",
   "metadata": {},
   "outputs": [],
   "source": [
    "# 폴더\n",
    "\n",
    "folder_nm = '주식_' + dt_str\n",
    "path = './' + folder_nm\n",
    "if os.path.isdir(path) == False : os.mkdir(folder_nm) "
   ]
  },
  {
   "cell_type": "markdown",
   "id": "54e7a81f",
   "metadata": {},
   "source": [
    "## 1. 전종목기본정보 [12005]"
   ]
  },
  {
   "cell_type": "code",
   "execution_count": 4,
   "id": "2b82a1dc",
   "metadata": {},
   "outputs": [
    {
     "name": "stdout",
     "output_type": "stream",
     "text": [
      "download complate ==> 전종목기본정보_20220415.xlsx\n"
     ]
    }
   ],
   "source": [
    "# 전종목기본정보 : 파일명만들기\n",
    "file_nm = '전종목기본정보_'+dt_str+'.xlsx'\n",
    "\n",
    "# otp 데이터 가져오기\n",
    "gen_otp_url = 'http://data.krx.co.kr/comm/fileDn/GenerateOTP/generate.cmd'\n",
    "headers = {\"user-Agent\":\"Mozilla/5.0 (Windows NT 10.0; Win64; x64) AppleWebKit/537.36 (KHTML, like Gecko) Chrome/99.0.4844.74 Safari/537.36\",\n",
    "          \"Refer\":\"http://data.krx.co.kr/contents/MDC/MDI/mdiLoader/index.cmd?menuId=MDC0201020103\"}\n",
    "query_str_params = {\n",
    "    \"locale\": \"ko_KR\",\n",
    "    \"mktId\": \"ALL\",\n",
    "    \"share\": \"1\",\n",
    "    \"csvxls_isNo\": \"false\",\n",
    "    \"name\": \"fileDown\",\n",
    "    \"url\": \"dbms/MDC/STAT/standard/MDCSTAT01901\"\n",
    "}\n",
    "\n",
    "res = requests.get(gen_otp_url, query_str_params, headers=headers)\n",
    "time.sleep(1.0) # 1초 \n",
    "res.raise_for_status()\n",
    "code = {\n",
    "    \"code\" : res.content\n",
    "        }\n",
    "\n",
    "# 파일다운로드\n",
    "#download.cmd 에서 General의 Request URL 부분\n",
    "down_url = 'http://data.krx.co.kr/comm/fileDn/download_csv/download.cmd'\n",
    "# requests Module의 post함수를 이용하여 해당 url에 접속하여 otp코드를 제출함\n",
    "\n",
    "down_csv = requests.post(down_url, code, headers=headers)\n",
    "time.sleep(1.0)\n",
    "# 다운 받은 csv파일을 pandas의 read_csv 함수를 이용하여 읽어 들임. \n",
    "# read_csv 함수의 argument에 적합할 수 있도록 BytesIO함수를 이용하여 바이너 스트림 형태로 \n",
    "df = pd.read_csv(BytesIO(down_csv.content), encoding='EUC-KR')\n",
    "df.to_excel(folder_nm+'/'+ file_nm)\n",
    "print('download complate ==> {}'.format(file_nm))"
   ]
  },
  {
   "cell_type": "markdown",
   "id": "606217a5",
   "metadata": {},
   "source": [
    "## 2. 전종목지정내역[12006]"
   ]
  },
  {
   "cell_type": "code",
   "execution_count": 5,
   "id": "7cf0dab6",
   "metadata": {},
   "outputs": [
    {
     "name": "stdout",
     "output_type": "stream",
     "text": [
      "download complate ==> 전종목지정내역_20220415.xlsx\n"
     ]
    }
   ],
   "source": [
    "# 전종목지정내역 : 파일명만들기\n",
    "\n",
    "file_nm = '전종목지정내역_'+dt_str+'.xlsx'\n",
    "\n",
    "# otp 데이터 가져오기\n",
    "gen_otp_url = 'http://data.krx.co.kr/comm/fileDn/GenerateOTP/generate.cmd'\n",
    "headers = {\"user-Agent\":\"Mozilla/5.0 (Windows NT 10.0; Win64; x64) AppleWebKit/537.36 (KHTML, like Gecko) Chrome/99.0.4844.74 Safari/537.36\",\n",
    "          \"Refer\":\"http://data.krx.co.kr/contents/MDC/MDI/mdiLoader/index.cmd?menuId=MDC0201020103\"}\n",
    "query_str_params = {\n",
    "    \"locale\": \"ko_KR\",\n",
    "    \"mktId\": \"ALL\",\n",
    "    \"csvxls_isNo\": \"false\",\n",
    "    \"name\": \"fileDown\",\n",
    "    \"url\": \"dbms/MDC/STAT/standard/MDCSTAT02001\"\n",
    "}\n",
    "\n",
    "res = requests.get(gen_otp_url, query_str_params, headers=headers)\n",
    "time.sleep(1.0) # 1초 \n",
    "res.raise_for_status()\n",
    "code = {\n",
    "    \"code\" : res.content\n",
    "        }\n",
    "\n",
    "# 파일다운로드\n",
    "#download.cmd 에서 General의 Request URL 부분\n",
    "down_url = 'http://data.krx.co.kr/comm/fileDn/download_csv/download.cmd'\n",
    "# requests Module의 post함수를 이용하여 해당 url에 접속하여 otp코드를 제출함\n",
    "\n",
    "down_csv = requests.post(down_url, code, headers=headers)\n",
    "time.sleep(1.0)\n",
    "# 다운 받은 csv파일을 pandas의 read_csv 함수를 이용하여 읽어 들임. \n",
    "# read_csv 함수의 argument에 적합할 수 있도록 BytesIO함수를 이용하여 바이너 스트림 형태로 \n",
    "df = pd.read_csv(BytesIO(down_csv.content), encoding='EUC-KR')\n",
    "df.to_excel(folder_nm+'/'+ file_nm)\n",
    "print('download complate ==> {}'.format(file_nm))"
   ]
  },
  {
   "cell_type": "markdown",
   "id": "5ff30ddb",
   "metadata": {},
   "source": [
    "## 3. PER/PBR/배당수익률(개별종목) [12021]"
   ]
  },
  {
   "cell_type": "code",
   "execution_count": 6,
   "id": "9b835359",
   "metadata": {},
   "outputs": [
    {
     "name": "stdout",
     "output_type": "stream",
     "text": [
      "{'locale': 'ko_KR', 'searchType': '1', 'mktId': 'ALL', 'trdDd': '20220415', 'csvxls_isNo': 'false', 'name': 'fileDown', 'url': 'dbms/MDC/STAT/standard/MDCSTAT03501'}\n",
      "download complate ==> per_pbr_배당_20220415.xlsx\n"
     ]
    }
   ],
   "source": [
    "# 전종목지정내역 : 파일명만들기\n",
    "# dt_str = '20220318'\n",
    "file_nm = 'per_pbr_배당_'+dt_str+'.xlsx'\n",
    "\n",
    "# otp 데이터 가져오기\n",
    "gen_otp_url = 'http://data.krx.co.kr/comm/fileDn/GenerateOTP/generate.cmd'\n",
    "headers = {\"user-Agent\":\"Mozilla/5.0 (Windows NT 10.0; Win64; x64) AppleWebKit/537.36 (KHTML, like Gecko) Chrome/99.0.4844.74 Safari/537.36\",\n",
    "          \"Refer\":\"http://data.krx.co.kr/contents/MDC/MDI/mdiLoader/index.cmd?menuId=MDC0201020103\"}\n",
    "query_str_params = {\n",
    "    \"locale\": \"ko_KR\",\n",
    "    \"searchType\": \"1\",\n",
    "    \"mktId\": \"ALL\",\n",
    "    \"trdDd\": dt_str,\n",
    "    \"csvxls_isNo\": \"false\",\n",
    "    \"name\": \"fileDown\",\n",
    "    \"url\": \"dbms/MDC/STAT/standard/MDCSTAT03501\"\n",
    "}\n",
    "\n",
    "print(query_str_params)\n",
    "\n",
    "res = requests.get(gen_otp_url, query_str_params, headers=headers)\n",
    "time.sleep(1.0) # 1초 \n",
    "res.raise_for_status()\n",
    "code = {\n",
    "    \"code\" : res.content\n",
    "        }\n",
    "\n",
    "# 파일다운로드\n",
    "#download.cmd 에서 General의 Request URL 부분\n",
    "down_url = 'http://data.krx.co.kr/comm/fileDn/download_csv/download.cmd'\n",
    "# requests Module의 post함수를 이용하여 해당 url에 접속하여 otp코드를 제출함\n",
    "\n",
    "down_csv = requests.post(down_url, code, headers=headers)\n",
    "time.sleep(2.0)\n",
    "# 다운 받은 csv파일을 pandas의 read_csv 함수를 이용하여 읽어 들임. \n",
    "# read_csv 함수의 argument에 적합할 수 있도록 BytesIO함수를 이용하여 바이너 스트림 형태로 \n",
    "df = pd.read_csv(BytesIO(down_csv.content), encoding='EUC-KR')\n",
    "# df\n",
    "df.to_excel(folder_nm+'/'+ file_nm)\n",
    "print('download complate ==> {}'.format(file_nm))"
   ]
  },
  {
   "cell_type": "markdown",
   "id": "858bba69",
   "metadata": {},
   "source": [
    "## 4. 전종목시세 [12001]"
   ]
  },
  {
   "cell_type": "code",
   "execution_count": 7,
   "id": "7fcfcf84",
   "metadata": {},
   "outputs": [
    {
     "name": "stdout",
     "output_type": "stream",
     "text": [
      "download complate ==> 전종목시세_20220415.xlsx\n"
     ]
    }
   ],
   "source": [
    "# 전종목시세_ : 파일명만들기  --> 화면크롤링 해야 함.\n",
    "\n",
    "file_nm = '전종목시세_'+dt_str+'.xlsx'\n",
    "\n",
    "# otp 데이터 가져오기\n",
    "gen_otp_url = 'http://data.krx.co.kr/comm/fileDn/GenerateOTP/generate.cmd'\n",
    "headers = {\"user-Agent\":\"Mozilla/5.0 (Windows NT 10.0; Win64; x64) AppleWebKit/537.36 (KHTML, like Gecko) Chrome/99.0.4844.74 Safari/537.36\",\n",
    "          \"Refer\":\"http://data.krx.co.kr/contents/MDC/MDI/mdiLoader/index.cmd?menuId=MDC0201020103\"}\n",
    "query_str_params = {\n",
    "    \"locale\": \"ko_KR\",\n",
    "    \"mktId\": \"ALL\",\n",
    "    \"trdDd\": dt_str,\n",
    "    \"share\": \"1\",\n",
    "    \"money\": \"1\",\n",
    "    \"csvxls_isNo\": \"false\",\n",
    "    \"name\": \"fileDown\",\n",
    "    \"url\": \"dbms/MDC/STAT/standard/MDCSTAT01501\"\n",
    "}\n",
    "\n",
    "res = requests.get(gen_otp_url, query_str_params, headers=headers)\n",
    "time.sleep(1.0) # 1초 \n",
    "res.raise_for_status()\n",
    "code = {\n",
    "    \"code\" : res.content\n",
    "        }\n",
    "\n",
    "# 파일다운로드\n",
    "#download.cmd 에서 General의 Request URL 부분\n",
    "down_url = 'http://data.krx.co.kr/comm/fileDn/download_csv/download.cmd'\n",
    "# requests Module의 post함수를 이용하여 해당 url에 접속하여 otp코드를 제출함\n",
    "\n",
    "down_csv = requests.post(down_url, code, headers=headers)\n",
    "time.sleep(1.0)\n",
    "# 다운 받은 csv파일을 pandas의 read_csv 함수를 이용하여 읽어 들임. \n",
    "# read_csv 함수의 argument에 적합할 수 있도록 BytesIO함수를 이용하여 바이너 스트림 형태로 \n",
    "\n",
    "df = pd.read_csv(BytesIO(down_csv.content), encoding='EUC-KR')\n",
    "df.to_excel(folder_nm+'/'+ file_nm)\n",
    "print('download complate ==> {}'.format(file_nm))"
   ]
  }
 ],
 "metadata": {
  "kernelspec": {
   "display_name": "Python 3",
   "language": "python",
   "name": "python3"
  },
  "language_info": {
   "codemirror_mode": {
    "name": "ipython",
    "version": 3
   },
   "file_extension": ".py",
   "mimetype": "text/x-python",
   "name": "python",
   "nbconvert_exporter": "python",
   "pygments_lexer": "ipython3",
   "version": "3.8.8"
  }
 },
 "nbformat": 4,
 "nbformat_minor": 5
}
